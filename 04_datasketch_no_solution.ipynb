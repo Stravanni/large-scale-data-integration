{
 "cells": [
  {
   "cell_type": "markdown",
   "metadata": {},
   "source": [
    "# Using datasketch to find related sets in large corpora"
   ]
  },
  {
   "cell_type": "markdown",
   "metadata": {},
   "source": [
    "Computing the exact value for Jaccard similarity or containment for all pairs of sets in the corpus can be an expensive task. Let us consider for instance a corpus composed of 10k tables. Selected a query table and a column out of it, represented as a set of cells, we want to retrieve all tables in the corpus that are joinable with the query table on that column."
   ]
  },
  {
   "cell_type": "code",
   "execution_count": null,
   "metadata": {},
   "outputs": [],
   "source": [
    "import lzma\n",
    "import pandas as pd\n",
    "import pickle as pkl"
   ]
  },
  {
   "cell_type": "code",
   "execution_count": null,
   "metadata": {},
   "outputs": [],
   "source": [
    "tables = pkl.load(lzma.LZMAFile(\"datasets/joinable_tables/joinable_tables.pkl\", \"rb\"))\n",
    "id_mapping = {tables[i][\"_id\"]: i for i in range(0, len(tables))}  # map table ids to their indices inside the table list\n",
    "len(tables)"
   ]
  },
  {
   "cell_type": "code",
   "execution_count": null,
   "metadata": {},
   "outputs": [],
   "source": [
    "print(tables[0][\"_id\"])\n",
    "print(tables[0][\"context\"])\n",
    "pd.DataFrame(tables[0][\"content\"], columns=tables[0][\"headers\"])"
   ]
  },
  {
   "cell_type": "code",
   "execution_count": null,
   "metadata": {},
   "outputs": [],
   "source": [
    "gt = pd.read_csv(\"datasets/joinable_tables/joinable_tables.csv\")\n",
    "gt"
   ]
  },
  {
   "cell_type": "markdown",
   "metadata": {},
   "source": [
    "datasketch provides probabilistic data structures that can process and search very large amount of data super fast, with little loss of accuracy.\n",
    "\n",
    "https://ekzhu.com/datasketch/"
   ]
  },
  {
   "cell_type": "code",
   "execution_count": null,
   "metadata": {},
   "outputs": [],
   "source": [
    "import datasketch"
   ]
  },
  {
   "cell_type": "markdown",
   "metadata": {},
   "source": [
    "## MinHash"
   ]
  },
  {
   "cell_type": "markdown",
   "metadata": {},
   "source": [
    "datasketch.MinHash can be used to estimate the Jaccard similarity (resemblance) between sets of arbitrary sizes in linear time using a small and fixed memory space.\n",
    "\n",
    "https://ekzhu.com/datasketch/minhash.html"
   ]
  },
  {
   "cell_type": "code",
   "execution_count": null,
   "metadata": {},
   "outputs": [],
   "source": [
    "from datasketch import MinHash"
   ]
  },
  {
   "cell_type": "markdown",
   "metadata": {},
   "source": [
    "Let us consider two sets of values (e.g., two tokenized sentences)."
   ]
  },
  {
   "cell_type": "code",
   "execution_count": null,
   "metadata": {},
   "outputs": [],
   "source": [
    "data1 = ['minhash', 'is', 'a', 'probabilistic', 'data', 'structure', 'for', 'estimating', 'the', 'similarity', 'between', 'datasets']\n",
    "data2 = ['minhash', 'is', 'a', 'probability', 'data', 'structure', 'for', 'estimating', 'the', 'similarity', 'between', 'documents']"
   ]
  },
  {
   "cell_type": "markdown",
   "metadata": {},
   "source": [
    "We can estimate their Jaccard similarity through MinHash."
   ]
  },
  {
   "cell_type": "code",
   "execution_count": null,
   "metadata": {},
   "outputs": [],
   "source": [
    "m1 = MinHash()  # by default 128 permutations, but the number can be adjusted, e.g., by setting num_perm=256\n",
    "for d in data1:\n",
    "    m1.update(d.encode('utf8'))\n",
    "m1.hashvalues"
   ]
  },
  {
   "cell_type": "code",
   "execution_count": null,
   "metadata": {},
   "outputs": [],
   "source": [
    "m2 = MinHash()\n",
    "for d in data2:\n",
    "    m2.update(d.encode('utf8'))\n",
    "m2.hashvalues"
   ]
  },
  {
   "cell_type": "code",
   "execution_count": null,
   "metadata": {},
   "outputs": [],
   "source": [
    "m1.jaccard(m2)"
   ]
  },
  {
   "cell_type": "markdown",
   "metadata": {},
   "source": [
    "\\[For students\\] Let us check the exact value for the Jaccard similarity computed between the two sets of values."
   ]
  },
  {
   "cell_type": "code",
   "execution_count": null,
   "metadata": {},
   "outputs": [],
   "source": [
    "s1 = set(data1)\n",
    "s2 = set(data2)\n",
    "# actual_jaccard = # write your solution here\n",
    "actual_jaccard"
   ]
  },
  {
   "cell_type": "markdown",
   "metadata": {},
   "source": [
    "But always keep in mind the shortcomings of Jaccard similarity..."
   ]
  },
  {
   "cell_type": "code",
   "execution_count": null,
   "metadata": {},
   "outputs": [],
   "source": [
    "data1 = ['minhash', 'is', 'a', 'probabilistic', 'data', 'structure', 'for', 'estimating', 'the', 'similarity', 'between', 'datasets']\n",
    "data2 = ['similarity', 'between', 'datasets']\n",
    "\n",
    "m1, m2 = MinHash(), MinHash()\n",
    "for d in data1:\n",
    "    m1.update(d.encode('utf8'))\n",
    "for d in data2:\n",
    "    m2.update(d.encode('utf8'))\n",
    "m1.jaccard(m2)"
   ]
  },
  {
   "cell_type": "markdown",
   "metadata": {},
   "source": [
    "## MinHash LSH"
   ]
  },
  {
   "cell_type": "markdown",
   "metadata": {},
   "source": [
    "\\[For students\\] Suppose you have a very large collection of sets. Given a query, which is also a set, you want to find sets in your collection that have Jaccard similarities above certain threshold, and you want to do it with many other queries. To do this efficiently, you can create a MinHash for every set, and when a query comes, you compute the Jaccard similarities between the query MinHash and all the MinHash of your collection, and return the sets that satisfy your threshold. \n",
    "\n",
    "In particular, let us consider:\n",
    "- table \"35424124-1_0\" as the query table\n",
    "- and its first column as the query column\n",
    "- different thresholds too, e.g., 0.7 and 0.5"
   ]
  },
  {
   "cell_type": "code",
   "execution_count": null,
   "metadata": {},
   "outputs": [],
   "source": [
    "q_table_id = \"35424124-1_0\"\n",
    "q_table_index = id_mapping[q_table_id]\n",
    "print(tables[q_table_index][\"context\"])\n",
    "pd.DataFrame(tables[q_table_index][\"content\"], columns=tables[q_table_index][\"headers\"]).head()"
   ]
  },
  {
   "cell_type": "code",
   "execution_count": null,
   "metadata": {},
   "outputs": [],
   "source": [
    "%%time\n",
    "minhash_list = list()\n",
    "# write your solution here\n",
    "# we want to insert in minhash_list tuples representing columns:\n",
    "# in the form: (tables[table_id][\"_id\"] + \"_\" + str(col_id), m), where m is the minhash of th column"
   ]
  },
  {
   "cell_type": "code",
   "execution_count": null,
   "metadata": {},
   "outputs": [],
   "source": [
    "q_col_id = 0\n",
    "q_col_set = {row[q_col_id] for row in tables[q_table_index][\"content\"]}\n",
    "qm = MinHash()\n",
    "for val in list(q_col_set):\n",
    "    qm.update(val.encode('utf8'))\n",
    "join_cols = list()\n",
    "for col in minhash_list:\n",
    "    if qm.jaccard(col[1]) >= 0.5:\n",
    "        join_cols.append(col[0])\n",
    "join_cols"
   ]
  },
  {
   "cell_type": "markdown",
   "metadata": {},
   "source": [
    "The said approach is still an O(n) algorithm, meaning the query cost increases linearly with respect to the number of sets. A popular alternative is to use Locality Sensitive Hashing (LSH) index. LSH can be used with MinHash to achieve sub-linear query cost - that is a huge improvement."
   ]
  },
  {
   "cell_type": "code",
   "execution_count": null,
   "metadata": {},
   "outputs": [],
   "source": [
    "from datasketch import MinHashLSH"
   ]
  },
  {
   "cell_type": "code",
   "execution_count": null,
   "metadata": {},
   "outputs": [],
   "source": [
    "set1 = set(['minhash', 'is', 'a', 'probabilistic', 'data', 'structure', 'for', 'estimating', 'the', 'similarity', 'between', 'datasets'])\n",
    "set2 = set(['minhash', 'is', 'a', 'probability', 'data', 'structure', 'for', 'estimating', 'the', 'similarity', 'between', 'documents'])\n",
    "set3 = set(['similarity', 'between', 'documents'])"
   ]
  },
  {
   "cell_type": "code",
   "execution_count": null,
   "metadata": {},
   "outputs": [],
   "source": [
    "m1 = MinHash(num_perm=128)\n",
    "m2 = MinHash(num_perm=128)\n",
    "m3 = MinHash(num_perm=128)\n",
    "for d in set1:\n",
    "    m1.update(d.encode('utf8'))\n",
    "for d in set2:\n",
    "    m2.update(d.encode('utf8'))\n",
    "for d in set3:\n",
    "    m3.update(d.encode('utf8'))"
   ]
  },
  {
   "cell_type": "code",
   "execution_count": null,
   "metadata": {},
   "outputs": [],
   "source": [
    "lsh = MinHashLSH(threshold=0.5, num_perm=128)\n",
    "lsh.insert(\"m2\", m2)\n",
    "lsh.insert(\"m3\", m3)\n",
    "lsh.query(m1)"
   ]
  },
  {
   "cell_type": "markdown",
   "metadata": {},
   "source": [
    "Define the query table and column and compute its MinHash."
   ]
  },
  {
   "cell_type": "code",
   "execution_count": null,
   "metadata": {},
   "outputs": [],
   "source": [
    "q_table_id = \"35424124-1_0\"\n",
    "q_table_index = id_mapping[q_table_id]\n",
    "q_col_id = 0\n",
    "q_col_set = {row[q_col_id] for row in tables[q_table_index][\"content\"]}\n",
    "qm = MinHash(num_perm=128)\n",
    "for val in list(q_col_set):\n",
    "    qm.update(val.encode('utf8'))"
   ]
  },
  {
   "cell_type": "markdown",
   "metadata": {},
   "source": [
    "Let us reply the previous search for joinable columns using MinHash LSH. First, insert into the LSH index the MinHash of all table columns in the corpus."
   ]
  },
  {
   "cell_type": "code",
   "execution_count": null,
   "metadata": {},
   "outputs": [],
   "source": [
    "lsh = MinHashLSH(threshold=0.5, num_perm=128)\n",
    "for table_index in range(0, len(tables)):  # for each table\n",
    "    if tables[table_index][\"_id\"] != q_table_id:\n",
    "        for col_id in range(0, len(tables[table_index][\"headers\"])):  # for each column of the table\n",
    "            col_set = {row[col_id] for row in tables[table_index][\"content\"]}\n",
    "            m = MinHash(num_perm=128)\n",
    "            for val in list(col_set):\n",
    "                m.update(val.encode('utf8'))\n",
    "            lsh.insert(tables[table_index][\"_id\"] + \"_\" + str(col_id), m)"
   ]
  },
  {
   "cell_type": "markdown",
   "metadata": {},
   "source": [
    "Then, obtain the ones with a Jaccard similarity above the defined threshold."
   ]
  },
  {
   "cell_type": "code",
   "execution_count": null,
   "metadata": {},
   "outputs": [],
   "source": [
    "%%time\n",
    "## compare the time with the previous approach\n",
    "lsh.query(qm)"
   ]
  },
  {
   "cell_type": "code",
   "execution_count": null,
   "metadata": {},
   "outputs": [],
   "source": [
    "print(lsh.b, lsh.r)"
   ]
  },
  {
   "cell_type": "markdown",
   "metadata": {},
   "source": [
    "\\[For students\\] datasketch supports table querying scenario. Nevertheless, finding all pairs of sets whose similarity overcomes the defined threshold is useful in many cases. Therefore, try to implement MinHash LSH Banding to obtain all pairs of similar sets in the corpus."
   ]
  },
  {
   "cell_type": "code",
   "execution_count": null,
   "metadata": {},
   "outputs": [],
   "source": [
    "# Compute MinHash for each table column\n",
    "minhash_list = list()\n",
    "for table_id in range(0, len(tables)):  # for each table\n",
    "    for col_id in range(0, len(tables[table_id][\"headers\"])):  # for each column of the table\n",
    "        col_set = {row[col_id] for row in tables[table_id][\"content\"]}\n",
    "        m = MinHash()\n",
    "        for val in list(col_set):\n",
    "            m.update(val.encode('utf8'))\n",
    "        minhash_list.append((tables[table_id][\"_id\"] + \"_\" + str(col_id), m))"
   ]
  },
  {
   "cell_type": "code",
   "execution_count": null,
   "metadata": {},
   "outputs": [],
   "source": [
    "# Perform MinHash LSH Banding\n",
    "minhash_size = 128\n",
    "num_bands = 16\n",
    "num_rows = int(minhash_size / num_bands)  # number of rows in each band\n",
    "# write your solution here (check the slides)"
   ]
  },
  {
   "cell_type": "code",
   "execution_count": null,
   "metadata": {},
   "outputs": [],
   "source": [
    "from itertools import combinations"
   ]
  },
  {
   "cell_type": "code",
   "execution_count": null,
   "metadata": {},
   "outputs": [],
   "source": [
    "# Generate the pairs of similar sets\n",
    "set_pairs = set()  # set to store the distinct set pairs\n",
    "for cluster in clusters:  # for each cluster\n",
    "    cluster_set_pairs = list(combinations(sorted(cluster[\"sets\"]), 2))  # compute the set pairs\n",
    "    for set_pair in cluster_set_pairs:  # add each table pair to the set pairs\n",
    "        set_pairs.add(set_pair)\n",
    "len(set_pairs)"
   ]
  },
  {
   "cell_type": "code",
   "execution_count": null,
   "metadata": {},
   "outputs": [],
   "source": [
    "list(set_pairs)[:10]"
   ]
  },
  {
   "cell_type": "markdown",
   "metadata": {},
   "source": [
    "# MinHash LSH Forest"
   ]
  },
  {
   "cell_type": "markdown",
   "metadata": {},
   "source": [
    "MinHash LSH is useful for threshold queries. However, top-k queries are often more useful in some cases. LSH Forest is a general LSH data structure that makes top-k query possible for many different types of LSH indexes, including MinHash LSH. MinHash LSH Forest returns therefore the top-k matching sets that have the approximately highest Jaccard similarity with the query set."
   ]
  },
  {
   "cell_type": "code",
   "execution_count": null,
   "metadata": {},
   "outputs": [],
   "source": [
    "q_table_id = \"23912408-1_0\"\n",
    "q_table_index = id_mapping[q_table_id]\n",
    "print(tables[q_table_index][\"_id\"])\n",
    "print(tables[q_table_index][\"context\"])\n",
    "pd.DataFrame(tables[q_table_index][\"content\"], columns=tables[q_table_index][\"headers\"])"
   ]
  },
  {
   "cell_type": "code",
   "execution_count": null,
   "metadata": {},
   "outputs": [],
   "source": [
    "gt[gt[\"query_table\"] == q_table_id]"
   ]
  },
  {
   "cell_type": "code",
   "execution_count": null,
   "metadata": {},
   "outputs": [],
   "source": [
    "table_index = id_mapping[\"23912408-1_3\"]\n",
    "pd.DataFrame(tables[table_index][\"content\"], columns=tables[table_index][\"headers\"]).head()"
   ]
  },
  {
   "cell_type": "code",
   "execution_count": null,
   "metadata": {},
   "outputs": [],
   "source": [
    "q_col_id = 0\n",
    "q_col_set = {row[q_col_id] for row in tables[q_table_index][\"content\"]}\n",
    "qm = MinHash(num_perm=128)\n",
    "for val in list(q_col_set):\n",
    "    qm.update(val.encode('utf8'))\n",
    "q_col_set"
   ]
  },
  {
   "cell_type": "code",
   "execution_count": null,
   "metadata": {},
   "outputs": [],
   "source": [
    "lsh = MinHashLSH(threshold=0.5, num_perm=128)\n",
    "for table_index in range(0, len(tables)):  # for each table\n",
    "    if tables[table_index][\"_id\"] != q_table_id:\n",
    "        for col_id in range(0, len(tables[table_index][\"headers\"])):  # for each column of the table\n",
    "            col_set = {row[col_id] for row in tables[table_index][\"content\"]}\n",
    "            m = MinHash(num_perm=128)\n",
    "            for val in list(col_set):\n",
    "                m.update(val.encode('utf8'))\n",
    "            lsh.insert(tables[table_index][\"_id\"] + \"_\" + str(col_id), m)"
   ]
  },
  {
   "cell_type": "code",
   "execution_count": null,
   "metadata": {},
   "outputs": [],
   "source": [
    "lsh.query(qm)"
   ]
  },
  {
   "cell_type": "code",
   "execution_count": null,
   "metadata": {},
   "outputs": [],
   "source": [
    "table_index = id_mapping[\"23912408-1_2\"]\n",
    "pd.DataFrame(tables[table_index][\"content\"], columns=tables[table_index][\"headers\"]).head()"
   ]
  },
  {
   "cell_type": "code",
   "execution_count": null,
   "metadata": {},
   "outputs": [],
   "source": [
    "from datasketch import MinHashLSHForest"
   ]
  },
  {
   "cell_type": "code",
   "execution_count": null,
   "metadata": {},
   "outputs": [],
   "source": [
    "forest = MinHashLSHForest(num_perm=128)\n",
    "for table_index in range(0, len(tables)):  # for each table\n",
    "    if tables[table_index][\"_id\"] != q_table_id:\n",
    "        for col_id in range(0, len(tables[table_index][\"headers\"])):  # for each column of the table\n",
    "            col_set = {row[col_id] for row in tables[table_index][\"content\"]}\n",
    "            m = MinHash(num_perm=128)\n",
    "            for val in list(col_set):\n",
    "                m.update(val.encode('utf8'))\n",
    "            forest.add(tables[table_index][\"_id\"] + \"_\" + str(col_id), m)\n",
    "forest.index()"
   ]
  },
  {
   "cell_type": "code",
   "execution_count": null,
   "metadata": {},
   "outputs": [],
   "source": [
    "forest.query(qm, 5)"
   ]
  },
  {
   "cell_type": "markdown",
   "metadata": {},
   "source": [
    "## MinHash LSH Ensemble"
   ]
  },
  {
   "attachments": {
    "image.png": {
     "image/png": "[encoded data removed]"
    }
   },
   "cell_type": "markdown",
   "metadata": {},
   "source": [
    "LSH Ensemble is a LSH index for containment search: given a query set, it returns sets with containment above a certain threshold.\n",
    "\n",
    "![image.png](attachment:image.png)\n",
    "\n",
    "https://ekzhu.com/datasketch/lshensemble.html"
   ]
  },
  {
   "cell_type": "code",
   "execution_count": null,
   "metadata": {},
   "outputs": [],
   "source": [
    "from datasketch import MinHashLSHEnsemble"
   ]
  },
  {
   "cell_type": "code",
   "execution_count": null,
   "metadata": {},
   "outputs": [],
   "source": [
    "q_table_id = \"23912408-1_0\"\n",
    "q_table_index = id_mapping[q_table_id]\n",
    "q_col_id = 0\n",
    "q_col_set = {row[q_col_id] for row in tables[q_table_index][\"content\"]}\n",
    "qm = MinHash(num_perm=128)\n",
    "for val in list(q_col_set):\n",
    "    qm.update(val.encode('utf8'))"
   ]
  },
  {
   "cell_type": "code",
   "execution_count": null,
   "metadata": {},
   "outputs": [],
   "source": [
    "lshensemble = MinHashLSHEnsemble(threshold=0.8, num_perm=128, num_part=32)\n",
    "triples = list()  # an iterable of (key, minhash, size)\n",
    "for table_index in range(0, len(tables)):  # for each table\n",
    "    if tables[table_index][\"_id\"] != q_table_id:\n",
    "        for col_id in range(0, len(tables[table_index][\"headers\"])):  # for each column of the table\n",
    "            col_set = {row[col_id] for row in tables[table_index][\"content\"]}\n",
    "            m = MinHash(num_perm=128)\n",
    "            for val in list(col_set):\n",
    "                m.update(val.encode('utf8'))\n",
    "            triples.append((tables[table_index][\"_id\"] + \"_\" + str(col_id), m, len(col_set)))\n",
    "lshensemble.index(triples)"
   ]
  },
  {
   "cell_type": "code",
   "execution_count": null,
   "metadata": {},
   "outputs": [],
   "source": [
    "[key for key in lshensemble.query(qm, len(q_col_set))]"
   ]
  },
  {
   "cell_type": "markdown",
   "metadata": {},
   "source": [
    "## Bonus: Tokenization"
   ]
  },
  {
   "cell_type": "code",
   "execution_count": null,
   "metadata": {},
   "outputs": [],
   "source": [
    "gt[gt[\"query_table\"] == q_table_id]"
   ]
  },
  {
   "cell_type": "code",
   "execution_count": null,
   "metadata": {},
   "outputs": [],
   "source": [
    "table_index = id_mapping[\"23912408-1_6\"]\n",
    "pd.DataFrame(tables[table_index][\"content\"], columns=tables[table_index][\"headers\"]).head()"
   ]
  },
  {
   "cell_type": "markdown",
   "metadata": {},
   "source": [
    "\\[For students\\] Note that we can tokenize our cell values at different levels."
   ]
  },
  {
   "cell_type": "code",
   "execution_count": null,
   "metadata": {},
   "outputs": [],
   "source": [
    "import re"
   ]
  },
  {
   "cell_type": "code",
   "execution_count": null,
   "metadata": {},
   "outputs": [],
   "source": [
    "q_col_id = 0\n",
    "q_col_set = {token for row in tables[q_table_index][\"content\"] for token in re.split(\" |-|_|'\", row[q_col_id])}\n",
    "qm = MinHash(num_perm=128)\n",
    "for val in list(q_col_set):\n",
    "    qm.update(val.encode('utf8'))\n",
    "q_col_set"
   ]
  },
  {
   "cell_type": "code",
   "execution_count": null,
   "metadata": {},
   "outputs": [],
   "source": [
    "lshensemble = MinHashLSHEnsemble(threshold=0.8, num_perm=128, num_part=32)\n",
    "triples = list()  # an iterable of (key, minhash, size)\n",
    "# write your solution here\n",
    "lshensemble.index(triples)"
   ]
  },
  {
   "cell_type": "code",
   "execution_count": null,
   "metadata": {},
   "outputs": [],
   "source": [
    "[key for key in lshensemble.query(qm, len(q_col_set))]"
   ]
  },
  {
   "cell_type": "code",
   "execution_count": null,
   "metadata": {},
   "outputs": [],
   "source": []
  }
 ],
 "metadata": {
  "kernelspec": {
   "display_name": "Python 3 (ipykernel)",
   "language": "python",
   "name": "python3"
  },
  "language_info": {
   "codemirror_mode": {
    "name": "ipython",
    "version": 3
   },
   "file_extension": ".py",
   "mimetype": "text/x-python",
   "name": "python",
   "nbconvert_exporter": "python",
   "pygments_lexer": "ipython3",
   "version": "3.8.10"
  }
 },
 "nbformat": 4,
 "nbformat_minor": 4
}
