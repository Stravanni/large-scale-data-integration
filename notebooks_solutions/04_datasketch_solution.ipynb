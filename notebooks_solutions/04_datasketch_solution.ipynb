{
 "cells": [
  {
   "cell_type": "markdown",
   "metadata": {},
   "source": [
    "# Using datasketch to find related sets in large corpora"
   ]
  },
  {
   "cell_type": "markdown",
   "metadata": {},
   "source": [
    "Computing the exact value for Jaccard similarity or containment for all pairs of sets in the corpus can be an expensive task. Let us consider for instance a corpus composed of 10k tables. Selected a query table and a column out of it, represented as a set of cells, we want to retrieve all tables in the corpus that are joinable with the query table on that column."
   ]
  },
  {
   "cell_type": "code",
   "execution_count": 1,
   "metadata": {},
   "outputs": [],
   "source": [
    "import lzma\n",
    "import pandas as pd\n",
    "import pickle as pkl"
   ]
  },
  {
   "cell_type": "code",
   "execution_count": 2,
   "metadata": {},
   "outputs": [
    {
     "data": {
      "text/plain": [
       "10000"
      ]
     },
     "execution_count": 2,
     "metadata": {},
     "output_type": "execute_result"
    }
   ],
   "source": [
    "tables = pkl.load(lzma.LZMAFile(\"datasets/joinable_tables/joinable_tables.pkl\", \"rb\"))\n",
    "id_mapping = {tables[i][\"_id\"]: i for i in range(0, len(tables))}  # map table ids to their indices inside the table list\n",
    "len(tables)"
   ]
  },
  {
   "cell_type": "code",
   "execution_count": 3,
   "metadata": {},
   "outputs": [
    {
     "name": "stdout",
     "output_type": "stream",
     "text": [
      "16478687-3_0\n",
      "List of cities in the Far East by population | Largest urban areas ranked by 2010 projected population | \n"
     ]
    },
    {
     "data": {
      "text/html": [
       "<div>\n",
       "<style scoped>\n",
       "    .dataframe tbody tr th:only-of-type {\n",
       "        vertical-align: middle;\n",
       "    }\n",
       "\n",
       "    .dataframe tbody tr th {\n",
       "        vertical-align: top;\n",
       "    }\n",
       "\n",
       "    .dataframe thead tr th {\n",
       "        text-align: left;\n",
       "    }\n",
       "</style>\n",
       "<table border=\"1\" class=\"dataframe\">\n",
       "  <thead>\n",
       "    <tr>\n",
       "      <th></th>\n",
       "      <th>city</th>\n",
       "      <th>sources of pop. / area</th>\n",
       "      <th>population</th>\n",
       "    </tr>\n",
       "  </thead>\n",
       "  <tbody>\n",
       "    <tr>\n",
       "      <th>0</th>\n",
       "      <td>Jakarta</td>\n",
       "      <td>F / B</td>\n",
       "      <td>22,000,000</td>\n",
       "    </tr>\n",
       "    <tr>\n",
       "      <th>1</th>\n",
       "      <td>Seoul – Incheon</td>\n",
       "      <td>C / B</td>\n",
       "      <td>19,910,000</td>\n",
       "    </tr>\n",
       "    <tr>\n",
       "      <th>2</th>\n",
       "      <td>Beijing</td>\n",
       "      <td>C / B</td>\n",
       "      <td>13,955,000</td>\n",
       "    </tr>\n",
       "    <tr>\n",
       "      <th>3</th>\n",
       "      <td>Dongguan</td>\n",
       "      <td>F / B</td>\n",
       "      <td>10,525,00</td>\n",
       "    </tr>\n",
       "    <tr>\n",
       "      <th>4</th>\n",
       "      <td>Hangzhou</td>\n",
       "      <td>E / B</td>\n",
       "      <td>5,305,000</td>\n",
       "    </tr>\n",
       "    <tr>\n",
       "      <th>5</th>\n",
       "      <td>Chengdu</td>\n",
       "      <td>E / B</td>\n",
       "      <td>4,785,000</td>\n",
       "    </tr>\n",
       "    <tr>\n",
       "      <th>6</th>\n",
       "      <td>Singapore</td>\n",
       "      <td>D / B</td>\n",
       "      <td>4,635,000</td>\n",
       "    </tr>\n",
       "    <tr>\n",
       "      <th>7</th>\n",
       "      <td>Nanjing</td>\n",
       "      <td>E / B</td>\n",
       "      <td>3,550,000</td>\n",
       "    </tr>\n",
       "    <tr>\n",
       "      <th>8</th>\n",
       "      <td>Dalian</td>\n",
       "      <td>E / B</td>\n",
       "      <td>3,255,000</td>\n",
       "    </tr>\n",
       "    <tr>\n",
       "      <th>9</th>\n",
       "      <td>Changchun</td>\n",
       "      <td>E / B</td>\n",
       "      <td>3,170,000</td>\n",
       "    </tr>\n",
       "    <tr>\n",
       "      <th>10</th>\n",
       "      <td>Kunming</td>\n",
       "      <td>E / B</td>\n",
       "      <td>3,070,000</td>\n",
       "    </tr>\n",
       "    <tr>\n",
       "      <th>11</th>\n",
       "      <td>Taiyuan</td>\n",
       "      <td>E / B</td>\n",
       "      <td>2,900,000</td>\n",
       "    </tr>\n",
       "    <tr>\n",
       "      <th>12</th>\n",
       "      <td>Taichung - Changhua</td>\n",
       "      <td>E / B</td>\n",
       "      <td>2,815,000</td>\n",
       "    </tr>\n",
       "    <tr>\n",
       "      <th>13</th>\n",
       "      <td>Kaohsiung</td>\n",
       "      <td>E / B</td>\n",
       "      <td>2,670,000</td>\n",
       "    </tr>\n",
       "    <tr>\n",
       "      <th>14</th>\n",
       "      <td>Guiyang</td>\n",
       "      <td>E / B</td>\n",
       "      <td>2,440,000</td>\n",
       "    </tr>\n",
       "    <tr>\n",
       "      <th>15</th>\n",
       "      <td>Xiamen</td>\n",
       "      <td>E / B</td>\n",
       "      <td>2,225,000</td>\n",
       "    </tr>\n",
       "    <tr>\n",
       "      <th>16</th>\n",
       "      <td>Baotou</td>\n",
       "      <td>E / B</td>\n",
       "      <td>2,095,000</td>\n",
       "    </tr>\n",
       "    <tr>\n",
       "      <th>17</th>\n",
       "      <td>Jilin</td>\n",
       "      <td>E / B</td>\n",
       "      <td>2,070,000</td>\n",
       "    </tr>\n",
       "    <tr>\n",
       "      <th>18</th>\n",
       "      <td>Hefei</td>\n",
       "      <td>E / B</td>\n",
       "      <td>2,000,000</td>\n",
       "    </tr>\n",
       "    <tr>\n",
       "      <th>19</th>\n",
       "      <td>Kitakyūshū</td>\n",
       "      <td>C / B</td>\n",
       "      <td>2,000,000</td>\n",
       "    </tr>\n",
       "  </tbody>\n",
       "</table>\n",
       "</div>"
      ],
      "text/plain": [
       "                   city sources of pop. / area  population\n",
       "0               Jakarta                  F / B  22,000,000\n",
       "1       Seoul – Incheon                  C / B  19,910,000\n",
       "2               Beijing                  C / B  13,955,000\n",
       "3              Dongguan                  F / B   10,525,00\n",
       "4              Hangzhou                  E / B   5,305,000\n",
       "5               Chengdu                  E / B   4,785,000\n",
       "6             Singapore                  D / B   4,635,000\n",
       "7               Nanjing                  E / B   3,550,000\n",
       "8                Dalian                  E / B   3,255,000\n",
       "9             Changchun                  E / B   3,170,000\n",
       "10              Kunming                  E / B   3,070,000\n",
       "11              Taiyuan                  E / B   2,900,000\n",
       "12  Taichung - Changhua                  E / B   2,815,000\n",
       "13            Kaohsiung                  E / B   2,670,000\n",
       "14              Guiyang                  E / B   2,440,000\n",
       "15               Xiamen                  E / B   2,225,000\n",
       "16               Baotou                  E / B   2,095,000\n",
       "17                Jilin                  E / B   2,070,000\n",
       "18                Hefei                  E / B   2,000,000\n",
       "19           Kitakyūshū                  C / B   2,000,000"
      ]
     },
     "execution_count": 3,
     "metadata": {},
     "output_type": "execute_result"
    }
   ],
   "source": [
    "print(tables[0][\"_id\"])\n",
    "print(tables[0][\"context\"])\n",
    "pd.DataFrame(tables[0][\"content\"], columns=tables[0][\"headers\"])"
   ]
  },
  {
   "cell_type": "code",
   "execution_count": 4,
   "metadata": {},
   "outputs": [
    {
     "data": {
      "text/html": [
       "<div>\n",
       "<style scoped>\n",
       "    .dataframe tbody tr th:only-of-type {\n",
       "        vertical-align: middle;\n",
       "    }\n",
       "\n",
       "    .dataframe tbody tr th {\n",
       "        vertical-align: top;\n",
       "    }\n",
       "\n",
       "    .dataframe thead th {\n",
       "        text-align: right;\n",
       "    }\n",
       "</style>\n",
       "<table border=\"1\" class=\"dataframe\">\n",
       "  <thead>\n",
       "    <tr style=\"text-align: right;\">\n",
       "      <th></th>\n",
       "      <th>query_table</th>\n",
       "      <th>join_table</th>\n",
       "      <th>join_column</th>\n",
       "      <th>query_set_size</th>\n",
       "      <th>join_set_size</th>\n",
       "      <th>joinability</th>\n",
       "      <th>processed</th>\n",
       "      <th>jsim</th>\n",
       "    </tr>\n",
       "  </thead>\n",
       "  <tbody>\n",
       "    <tr>\n",
       "      <th>0</th>\n",
       "      <td>16478687-3_0</td>\n",
       "      <td>16478687-3_1</td>\n",
       "      <td>city</td>\n",
       "      <td>20</td>\n",
       "      <td>27</td>\n",
       "      <td>15</td>\n",
       "      <td>False</td>\n",
       "      <td>0.468750</td>\n",
       "    </tr>\n",
       "    <tr>\n",
       "      <th>1</th>\n",
       "      <td>16478687-3_0</td>\n",
       "      <td>16478687-3_2</td>\n",
       "      <td>city</td>\n",
       "      <td>20</td>\n",
       "      <td>49</td>\n",
       "      <td>11</td>\n",
       "      <td>False</td>\n",
       "      <td>0.189655</td>\n",
       "    </tr>\n",
       "    <tr>\n",
       "      <th>2</th>\n",
       "      <td>16478687-3_0</td>\n",
       "      <td>16478687-3_3</td>\n",
       "      <td>city</td>\n",
       "      <td>20</td>\n",
       "      <td>39</td>\n",
       "      <td>12</td>\n",
       "      <td>False</td>\n",
       "      <td>0.255319</td>\n",
       "    </tr>\n",
       "    <tr>\n",
       "      <th>3</th>\n",
       "      <td>21333468-2_0</td>\n",
       "      <td>21333468-2_1</td>\n",
       "      <td>year</td>\n",
       "      <td>27</td>\n",
       "      <td>34</td>\n",
       "      <td>16</td>\n",
       "      <td>False</td>\n",
       "      <td>0.355556</td>\n",
       "    </tr>\n",
       "    <tr>\n",
       "      <th>4</th>\n",
       "      <td>21333468-2_0</td>\n",
       "      <td>21333468-2_2</td>\n",
       "      <td>year</td>\n",
       "      <td>27</td>\n",
       "      <td>29</td>\n",
       "      <td>10</td>\n",
       "      <td>False</td>\n",
       "      <td>0.217391</td>\n",
       "    </tr>\n",
       "    <tr>\n",
       "      <th>...</th>\n",
       "      <td>...</td>\n",
       "      <td>...</td>\n",
       "      <td>...</td>\n",
       "      <td>...</td>\n",
       "      <td>...</td>\n",
       "      <td>...</td>\n",
       "      <td>...</td>\n",
       "      <td>...</td>\n",
       "    </tr>\n",
       "    <tr>\n",
       "      <th>8413</th>\n",
       "      <td>32426909-9_0</td>\n",
       "      <td>32426909-9_7</td>\n",
       "      <td>player</td>\n",
       "      <td>19</td>\n",
       "      <td>20</td>\n",
       "      <td>11</td>\n",
       "      <td>False</td>\n",
       "      <td>0.392857</td>\n",
       "    </tr>\n",
       "    <tr>\n",
       "      <th>8414</th>\n",
       "      <td>32426909-9_0</td>\n",
       "      <td>32426909-9_8</td>\n",
       "      <td>player</td>\n",
       "      <td>19</td>\n",
       "      <td>12</td>\n",
       "      <td>8</td>\n",
       "      <td>True</td>\n",
       "      <td>0.347826</td>\n",
       "    </tr>\n",
       "    <tr>\n",
       "      <th>8415</th>\n",
       "      <td>2810483-6_0</td>\n",
       "      <td>2810483-6_1</td>\n",
       "      <td>domestic league</td>\n",
       "      <td>25</td>\n",
       "      <td>26</td>\n",
       "      <td>9</td>\n",
       "      <td>False</td>\n",
       "      <td>0.214286</td>\n",
       "    </tr>\n",
       "    <tr>\n",
       "      <th>8416</th>\n",
       "      <td>2810483-6_0</td>\n",
       "      <td>2810483-6_2</td>\n",
       "      <td>domestic league</td>\n",
       "      <td>25</td>\n",
       "      <td>37</td>\n",
       "      <td>14</td>\n",
       "      <td>False</td>\n",
       "      <td>0.291667</td>\n",
       "    </tr>\n",
       "    <tr>\n",
       "      <th>8417</th>\n",
       "      <td>2810483-6_0</td>\n",
       "      <td>2810483-6_3</td>\n",
       "      <td>domestic league</td>\n",
       "      <td>25</td>\n",
       "      <td>44</td>\n",
       "      <td>14</td>\n",
       "      <td>False</td>\n",
       "      <td>0.254545</td>\n",
       "    </tr>\n",
       "  </tbody>\n",
       "</table>\n",
       "<p>8418 rows × 8 columns</p>\n",
       "</div>"
      ],
      "text/plain": [
       "       query_table    join_table      join_column  query_set_size  \\\n",
       "0     16478687-3_0  16478687-3_1             city              20   \n",
       "1     16478687-3_0  16478687-3_2             city              20   \n",
       "2     16478687-3_0  16478687-3_3             city              20   \n",
       "3     21333468-2_0  21333468-2_1             year              27   \n",
       "4     21333468-2_0  21333468-2_2             year              27   \n",
       "...            ...           ...              ...             ...   \n",
       "8413  32426909-9_0  32426909-9_7           player              19   \n",
       "8414  32426909-9_0  32426909-9_8           player              19   \n",
       "8415   2810483-6_0   2810483-6_1  domestic league              25   \n",
       "8416   2810483-6_0   2810483-6_2  domestic league              25   \n",
       "8417   2810483-6_0   2810483-6_3  domestic league              25   \n",
       "\n",
       "      join_set_size  joinability  processed      jsim  \n",
       "0                27           15      False  0.468750  \n",
       "1                49           11      False  0.189655  \n",
       "2                39           12      False  0.255319  \n",
       "3                34           16      False  0.355556  \n",
       "4                29           10      False  0.217391  \n",
       "...             ...          ...        ...       ...  \n",
       "8413             20           11      False  0.392857  \n",
       "8414             12            8       True  0.347826  \n",
       "8415             26            9      False  0.214286  \n",
       "8416             37           14      False  0.291667  \n",
       "8417             44           14      False  0.254545  \n",
       "\n",
       "[8418 rows x 8 columns]"
      ]
     },
     "execution_count": 4,
     "metadata": {},
     "output_type": "execute_result"
    }
   ],
   "source": [
    "gt = pd.read_csv(\"datasets/joinable_tables/joinable_tables.csv\")\n",
    "gt"
   ]
  },
  {
   "cell_type": "markdown",
   "metadata": {},
   "source": [
    "datasketch provides probabilistic data structures that can process and search very large amount of data super fast, with little loss of accuracy.\n",
    "\n",
    "https://ekzhu.com/datasketch/"
   ]
  },
  {
   "cell_type": "code",
   "execution_count": 5,
   "metadata": {},
   "outputs": [],
   "source": [
    "import datasketch"
   ]
  },
  {
   "cell_type": "markdown",
   "metadata": {},
   "source": [
    "## MinHash"
   ]
  },
  {
   "cell_type": "markdown",
   "metadata": {},
   "source": [
    "datasketch.MinHash can be used to estimate the Jaccard similarity (resemblance) between sets of arbitrary sizes in linear time using a small and fixed memory space.\n",
    "\n",
    "https://ekzhu.com/datasketch/minhash.html"
   ]
  },
  {
   "cell_type": "code",
   "execution_count": 6,
   "metadata": {},
   "outputs": [],
   "source": [
    "from datasketch import MinHash"
   ]
  },
  {
   "cell_type": "markdown",
   "metadata": {},
   "source": [
    "Let us consider two sets of values (e.g., two tokenized sentences)."
   ]
  },
  {
   "cell_type": "code",
   "execution_count": 7,
   "metadata": {},
   "outputs": [],
   "source": [
    "data1 = ['minhash', 'is', 'a', 'probabilistic', 'data', 'structure', 'for', 'estimating', 'the', 'similarity', 'between', 'datasets']\n",
    "data2 = ['minhash', 'is', 'a', 'probability', 'data', 'structure', 'for', 'estimating', 'the', 'similarity', 'between', 'documents']"
   ]
  },
  {
   "cell_type": "markdown",
   "metadata": {},
   "source": [
    "We can estimate their Jaccard similarity through MinHash."
   ]
  },
  {
   "cell_type": "code",
   "execution_count": 8,
   "metadata": {},
   "outputs": [
    {
     "data": {
      "text/plain": [
       "array([ 297616339,  279951299,  113505080,  311917730,    1735256,\n",
       "        278730948,  249258812,  306660385,  386953741,  423518424,\n",
       "        120511132,  607298570,  490287863,  115094987,  290874010,\n",
       "         58384851,   82568189,  483072302,  312640790,   86174351,\n",
       "        198731659,  788039411,   54507159,  828911042,   93863906,\n",
       "         16071831,  260431759,  316407020,  261463262, 1524825895,\n",
       "        648376383,  206326676,  176707072,   18714679,  478567185,\n",
       "        180270267,   89979232,  111646838,  240537181,  342142234,\n",
       "        620096571, 1407834531,  330961037,  663383944, 1105899070,\n",
       "        181581527,  132285593,  375422674, 1436377075,  484486034,\n",
       "        252946215,   87331021,  374968398,  968098446,   72863372,\n",
       "        484842735,  179471924,  672911886,   14648640,  656664915,\n",
       "        417888415,  271335895,   10055390,   48164330,  430379235,\n",
       "        622471011,  822143071,  365346353,  210165943,  633147285,\n",
       "        415249929,  133327723,  258658760,  272079305,  134604446,\n",
       "        805101807,  210188509,  233114503,   95255415,  635505003,\n",
       "         77230410,  728119369,  335976341,  373572520, 1534056922,\n",
       "         23974405,  192082432,  134970138,   74453127,   73828439,\n",
       "        451452431,  426078009,  256398728,  131943937,  117369863,\n",
       "        609846029,  967420222,   43573138,   54747434,   38867682,\n",
       "        492453226,   79870237,  115244974,   52793063,  380909371,\n",
       "        717134668,  670904950,  902925009,  209528426,  203379681,\n",
       "        384745433,  230332484,  768614371,  440444133,  641847493,\n",
       "         77874438,   14187457,  943516627,  454518278,  588777155,\n",
       "         53923074,   67476139,  365982808,  541286878,  306721294,\n",
       "        492306184,  224801095,  431216497], dtype=uint64)"
      ]
     },
     "execution_count": 8,
     "metadata": {},
     "output_type": "execute_result"
    }
   ],
   "source": [
    "m1 = MinHash()  # by default 128 permutations, but the number can be adjusted, e.g., by setting num_perm=256\n",
    "for d in data1:\n",
    "    m1.update(d.encode('utf8'))\n",
    "m1.hashvalues"
   ]
  },
  {
   "cell_type": "code",
   "execution_count": 9,
   "metadata": {},
   "outputs": [
    {
     "data": {
      "text/plain": [
       "array([   3749336,  339931219,  113505080,  311917730,    1735256,\n",
       "        278730948,  249258812,  306660385,  386953741,  423518424,\n",
       "        236032842,  607298570,  490287863,  115094987,  290874010,\n",
       "         58384851,   91673879,   59969429,  312640790,  143955678,\n",
       "        198731659,  261202638,   54507159,  125434160,   93863906,\n",
       "         16071831,  260431759,  316407020,  261463262, 1414798772,\n",
       "       1004656905,  206326676,  176707072,  490982219,  296255275,\n",
       "        180270267,   89979232,  111646838,  240537181,  342142234,\n",
       "        620096571,  885551337,  108622637,  663383944,  205778805,\n",
       "         73027438,  132285593,  375422674, 1436377075,  484486034,\n",
       "        252946215,   87331021,  542874901,  979802008,   72863372,\n",
       "          5334374,  179471924,  672911886,   14648640,  656664915,\n",
       "        185261334,  707014827,   10055390,   48164330,  430379235,\n",
       "        622471011,  822143071,  365346353,  210165943,  658287422,\n",
       "        415249929,  133327723,   47467434,   65465220,  205526851,\n",
       "        355123251,  210188509,  233114503,   95255415,  635505003,\n",
       "         77230410,  728119369,  335976341,  414322122,  145049437,\n",
       "         23974405,  192082432,  134970138,   74453127,   73828439,\n",
       "        602513435,  237597480,  256398728,  478669232,  117369863,\n",
       "        609846029,  967420222,   43573138,  602788439,   38867682,\n",
       "        492453226,   79870237,  115244974,   52793063,  380909371,\n",
       "        717134668,  670904950,  902925009,  209528426,  203379681,\n",
       "        384745433,  230332484,  768614371,  440444133,  177181803,\n",
       "         77874438,   14187457,  943516627,  473827979,  212418520,\n",
       "         23192819,   67476139,  365982808,  541286878,  306721294,\n",
       "        182775228,  224801095,  431216497], dtype=uint64)"
      ]
     },
     "execution_count": 9,
     "metadata": {},
     "output_type": "execute_result"
    }
   ],
   "source": [
    "m2 = MinHash()\n",
    "for d in data2:\n",
    "    m2.update(d.encode('utf8'))\n",
    "m2.hashvalues"
   ]
  },
  {
   "cell_type": "code",
   "execution_count": 10,
   "metadata": {},
   "outputs": [
    {
     "data": {
      "text/plain": [
       "0.7109375"
      ]
     },
     "execution_count": 10,
     "metadata": {},
     "output_type": "execute_result"
    }
   ],
   "source": [
    "m1.jaccard(m2)"
   ]
  },
  {
   "cell_type": "markdown",
   "metadata": {},
   "source": [
    "\\[For students\\] Let us check the exact value for the Jaccard similarity computed between the two sets of values."
   ]
  },
  {
   "cell_type": "code",
   "execution_count": 11,
   "metadata": {},
   "outputs": [
    {
     "data": {
      "text/plain": [
       "0.7142857142857143"
      ]
     },
     "execution_count": 11,
     "metadata": {},
     "output_type": "execute_result"
    }
   ],
   "source": [
    "s1 = set(data1)\n",
    "s2 = set(data2)\n",
    "actual_jaccard = float(len(s1.intersection(s2))) / float(len(s1.union(s2)))\n",
    "actual_jaccard"
   ]
  },
  {
   "cell_type": "markdown",
   "metadata": {},
   "source": [
    "But always keep in mind the shortcomings of Jaccard similarity..."
   ]
  },
  {
   "cell_type": "code",
   "execution_count": 12,
   "metadata": {},
   "outputs": [
    {
     "data": {
      "text/plain": [
       "0.28125"
      ]
     },
     "execution_count": 12,
     "metadata": {},
     "output_type": "execute_result"
    }
   ],
   "source": [
    "data1 = ['minhash', 'is', 'a', 'probabilistic', 'data', 'structure', 'for', 'estimating', 'the', 'similarity', 'between', 'datasets']\n",
    "data2 = ['similarity', 'between', 'datasets']\n",
    "\n",
    "m1, m2 = MinHash(), MinHash()\n",
    "for d in data1:\n",
    "    m1.update(d.encode('utf8'))\n",
    "for d in data2:\n",
    "    m2.update(d.encode('utf8'))\n",
    "m1.jaccard(m2)"
   ]
  },
  {
   "cell_type": "markdown",
   "metadata": {},
   "source": [
    "## MinHash LSH"
   ]
  },
  {
   "cell_type": "markdown",
   "metadata": {},
   "source": [
    "\\[For students\\] Suppose you have a very large collection of sets. Given a query, which is also a set, you want to find sets in your collection that have Jaccard similarities above certain threshold, and you want to do it with many other queries. To do this efficiently, you can create a MinHash for every set, and when a query comes, you compute the Jaccard similarities between the query MinHash and all the MinHash of your collection, and return the sets that satisfy your threshold. \n",
    "\n",
    "In particular, let us consider:\n",
    "- table \"35424124-1_0\" as the query table\n",
    "- and its first column as the query column\n",
    "- different thresholds too, e.g., 0.7 and 0.5"
   ]
  },
  {
   "cell_type": "code",
   "execution_count": 17,
   "metadata": {},
   "outputs": [
    {
     "name": "stdout",
     "output_type": "stream",
     "text": [
      "List of India Davis Cup team representatives | Players | \n"
     ]
    },
    {
     "data": {
      "text/html": [
       "<div>\n",
       "<style scoped>\n",
       "    .dataframe tbody tr th:only-of-type {\n",
       "        vertical-align: middle;\n",
       "    }\n",
       "\n",
       "    .dataframe tbody tr th {\n",
       "        vertical-align: top;\n",
       "    }\n",
       "\n",
       "    .dataframe thead tr th {\n",
       "        text-align: left;\n",
       "    }\n",
       "</style>\n",
       "<table border=\"1\" class=\"dataframe\">\n",
       "  <thead>\n",
       "    <tr>\n",
       "      <th></th>\n",
       "      <th>player</th>\n",
       "      <th>w-l ( singles )</th>\n",
       "    </tr>\n",
       "  </thead>\n",
       "  <tbody>\n",
       "    <tr>\n",
       "      <th>0</th>\n",
       "      <td>Zeeshan Ali</td>\n",
       "      <td>1–8</td>\n",
       "    </tr>\n",
       "    <tr>\n",
       "      <th>1</th>\n",
       "      <td>Akhtar Ali</td>\n",
       "      <td>5–2</td>\n",
       "    </tr>\n",
       "    <tr>\n",
       "      <th>2</th>\n",
       "      <td>Anand Amritraj</td>\n",
       "      <td>11–17</td>\n",
       "    </tr>\n",
       "    <tr>\n",
       "      <th>3</th>\n",
       "      <td>E.V. Bobb</td>\n",
       "      <td>1–3</td>\n",
       "    </tr>\n",
       "    <tr>\n",
       "      <th>4</th>\n",
       "      <td>Dilip Bose</td>\n",
       "      <td>1–2</td>\n",
       "    </tr>\n",
       "  </tbody>\n",
       "</table>\n",
       "</div>"
      ],
      "text/plain": [
       "           player w-l ( singles )\n",
       "0     Zeeshan Ali             1–8\n",
       "1      Akhtar Ali             5–2\n",
       "2  Anand Amritraj           11–17\n",
       "3       E.V. Bobb             1–3\n",
       "4      Dilip Bose             1–2"
      ]
     },
     "execution_count": 17,
     "metadata": {},
     "output_type": "execute_result"
    }
   ],
   "source": [
    "q_table_id = \"35424124-1_0\"\n",
    "q_table_index = id_mapping[q_table_id]\n",
    "print(tables[q_table_index][\"context\"])\n",
    "pd.DataFrame(tables[q_table_index][\"content\"], columns=tables[q_table_index][\"headers\"]).head()"
   ]
  },
  {
   "cell_type": "code",
   "execution_count": 18,
   "metadata": {},
   "outputs": [
    {
     "name": "stdout",
     "output_type": "stream",
     "text": [
      "CPU times: user 5.52 s, sys: 64.8 ms, total: 5.58 s\n",
      "Wall time: 5.6 s\n"
     ]
    }
   ],
   "source": [
    "%%time\n",
    "minhash_list = list()\n",
    "for table_id in range(0, len(tables)):  # for each table\n",
    "    if tables[table_id][\"_id\"] != q_table_id:\n",
    "        for col_id in range(0, len(tables[table_id][\"headers\"])):  # for each column of the table\n",
    "            col_set = {row[col_id] for row in tables[table_id][\"content\"]}\n",
    "            m = MinHash()\n",
    "            for val in list(col_set):\n",
    "                m.update(val.encode('utf8'))\n",
    "            minhash_list.append((tables[table_id][\"_id\"] + \"_\" + str(col_id), m))"
   ]
  },
  {
   "cell_type": "code",
   "execution_count": 20,
   "metadata": {},
   "outputs": [
    {
     "name": "stdout",
     "output_type": "stream",
     "text": [
      "CPU times: user 25.4 ms, sys: 1.11 ms, total: 26.5 ms\n",
      "Wall time: 25.6 ms\n"
     ]
    },
    {
     "data": {
      "text/plain": [
       "['35424124-1_1_0', '35424124-1_4_0']"
      ]
     },
     "execution_count": 20,
     "metadata": {},
     "output_type": "execute_result"
    }
   ],
   "source": [
    "%%time\n",
    "q_col_id = 0\n",
    "q_col_set = {row[q_col_id] for row in tables[q_table_index][\"content\"]}\n",
    "qm = MinHash()\n",
    "for val in list(q_col_set):\n",
    "    qm.update(val.encode('utf8'))\n",
    "join_cols = list()\n",
    "for col in minhash_list:\n",
    "    if qm.jaccard(col[1]) >= 0.5:\n",
    "        join_cols.append(col[0])\n",
    "join_cols"
   ]
  },
  {
   "cell_type": "markdown",
   "metadata": {},
   "source": [
    "The said approach is still an O(n) algorithm, meaning the query cost increases linearly with respect to the number of sets. A popular alternative is to use Locality Sensitive Hashing (LSH) index. LSH can be used with MinHash to achieve sub-linear query cost - that is a huge improvement."
   ]
  },
  {
   "cell_type": "code",
   "execution_count": 21,
   "metadata": {},
   "outputs": [],
   "source": [
    "from datasketch import MinHashLSH"
   ]
  },
  {
   "cell_type": "code",
   "execution_count": 22,
   "metadata": {},
   "outputs": [],
   "source": [
    "set1 = set(['minhash', 'is', 'a', 'probabilistic', 'data', 'structure', 'for', 'estimating', 'the', 'similarity', 'between', 'datasets'])\n",
    "set2 = set(['minhash', 'is', 'a', 'probability', 'data', 'structure', 'for', 'estimating', 'the', 'similarity', 'between', 'documents'])\n",
    "set3 = set(['similarity', 'between', 'documents'])"
   ]
  },
  {
   "cell_type": "code",
   "execution_count": 23,
   "metadata": {},
   "outputs": [],
   "source": [
    "m1 = MinHash(num_perm=128)\n",
    "m2 = MinHash(num_perm=128)\n",
    "m3 = MinHash(num_perm=128)\n",
    "for d in set1:\n",
    "    m1.update(d.encode('utf8'))\n",
    "for d in set2:\n",
    "    m2.update(d.encode('utf8'))\n",
    "for d in set3:\n",
    "    m3.update(d.encode('utf8'))"
   ]
  },
  {
   "cell_type": "code",
   "execution_count": 24,
   "metadata": {},
   "outputs": [
    {
     "data": {
      "text/plain": [
       "['m2']"
      ]
     },
     "execution_count": 24,
     "metadata": {},
     "output_type": "execute_result"
    }
   ],
   "source": [
    "lsh = MinHashLSH(threshold=0.5, num_perm=128)\n",
    "lsh.insert(\"m2\", m2)\n",
    "lsh.insert(\"m3\", m3)\n",
    "lsh.query(m1)"
   ]
  },
  {
   "cell_type": "markdown",
   "metadata": {},
   "source": [
    "Define the query table and column and compute its MinHash."
   ]
  },
  {
   "cell_type": "code",
   "execution_count": 25,
   "metadata": {},
   "outputs": [],
   "source": [
    "q_table_id = \"35424124-1_0\"\n",
    "q_table_index = id_mapping[q_table_id]\n",
    "q_col_id = 0\n",
    "q_col_set = {row[q_col_id] for row in tables[q_table_index][\"content\"]}\n",
    "qm = MinHash(num_perm=128)\n",
    "for val in list(q_col_set):\n",
    "    qm.update(val.encode('utf8'))"
   ]
  },
  {
   "cell_type": "markdown",
   "metadata": {},
   "source": [
    "Let us reply the previous search for joinable columns using MinHash LSH. First, insert into the LSH index the MinHash of all table columns in the corpus."
   ]
  },
  {
   "cell_type": "code",
   "execution_count": 26,
   "metadata": {},
   "outputs": [],
   "source": [
    "lsh = MinHashLSH(threshold=0.5, num_perm=128)\n",
    "for table_index in range(0, len(tables)):  # for each table\n",
    "    if tables[table_index][\"_id\"] != q_table_id:\n",
    "        for col_id in range(0, len(tables[table_index][\"headers\"])):  # for each column of the table\n",
    "            col_set = {row[col_id] for row in tables[table_index][\"content\"]}\n",
    "            m = MinHash(num_perm=128)\n",
    "            for val in list(col_set):\n",
    "                m.update(val.encode('utf8'))\n",
    "            lsh.insert(tables[table_index][\"_id\"] + \"_\" + str(col_id), m)"
   ]
  },
  {
   "cell_type": "markdown",
   "metadata": {},
   "source": [
    "Then, obtain the ones with a Jaccard similarity above the defined threshold."
   ]
  },
  {
   "cell_type": "code",
   "execution_count": 35,
   "metadata": {},
   "outputs": [
    {
     "name": "stdout",
     "output_type": "stream",
     "text": [
      "CPU times: user 181 µs, sys: 204 µs, total: 385 µs\n",
      "Wall time: 301 µs\n"
     ]
    },
    {
     "data": {
      "text/plain": [
       "['35424124-1_4_0', '35424124-1_1_0']"
      ]
     },
     "execution_count": 35,
     "metadata": {},
     "output_type": "execute_result"
    }
   ],
   "source": [
    "%%time \n",
    "## compare the time with the previous approach\n",
    "lsh.query(qm)"
   ]
  },
  {
   "cell_type": "code",
   "execution_count": 36,
   "metadata": {},
   "outputs": [
    {
     "name": "stdout",
     "output_type": "stream",
     "text": [
      "25 5\n"
     ]
    }
   ],
   "source": [
    "print(lsh.b, lsh.r)"
   ]
  },
  {
   "cell_type": "markdown",
   "metadata": {},
   "source": [
    "\\[For students\\] datasketch supports table querying scenario. Nevertheless, finding all pairs of sets whose similarity overcomes the defined threshold is useful in many cases. Therefore, try to implement MinHash LSH Banding to obtain all pairs of similar sets in the corpus."
   ]
  },
  {
   "cell_type": "code",
   "execution_count": 37,
   "metadata": {},
   "outputs": [],
   "source": [
    "# Compute MinHash for each table column\n",
    "minhash_list = list()\n",
    "for table_id in range(0, len(tables)):  # for each table\n",
    "    for col_id in range(0, len(tables[table_id][\"headers\"])):  # for each column of the table\n",
    "        col_set = {row[col_id] for row in tables[table_id][\"content\"]}\n",
    "        m = MinHash()\n",
    "        for val in list(col_set):\n",
    "            m.update(val.encode('utf8'))\n",
    "        minhash_list.append((tables[table_id][\"_id\"] + \"_\" + str(col_id), m))"
   ]
  },
  {
   "cell_type": "code",
   "execution_count": 38,
   "metadata": {},
   "outputs": [],
   "source": [
    "# Perform MinHash LSH Banding\n",
    "minhash_size = 128\n",
    "num_bands = 16\n",
    "num_rows = int(minhash_size / num_bands)  # number of rows in each band\n",
    "pins = [i for i in range(0, minhash_size, num_rows)]  # bit intervals to decompose the minhash into bands\n",
    "pins.append(minhash_size)  # include the last bit to denote the last band\n",
    "buckets = [dict() for _ in range(0, num_bands)]  # list of dictionaries to store the buckets for each band\n",
    "for item in minhash_list:\n",
    "    for i in range(0, num_bands):  # decompose the minhash into bands\n",
    "        hash_value = hash(\"\".join([str(h) for h in item[1].hashvalues.tolist()[pins[i]:pins[i + 1]]]))  # value for the current band\n",
    "        if hash_value not in buckets[i].keys():  # if the value is not present in buckets, create a new bucket for that band\n",
    "            buckets[i][hash_value] = [item[0]]\n",
    "        else:  # otherwise, insert the column into the existing bucket\n",
    "            buckets[i][hash_value].append(item[0])\n",
    "clusters = list()  # list of all clusters determined by the generated buckets\n",
    "for i in range(0, num_bands):  # for each band, read its buckets\n",
    "    for bucket in buckets[i].items():\n",
    "        if len(bucket[1]) > 1:  # if the bucket contains more than one element (i.e., generates pairs of similar sets)\n",
    "            cluster = dict()  # initialize the corresponding cluster as a dictionary\n",
    "            cluster[\"_id\"] = str(bucket[0]) + \"-\" + str(i)  # discriminate among same bucket identifiers in different bands\n",
    "            cluster[\"sets\"] = bucket[1]  # list of sets\n",
    "            clusters.append(cluster)"
   ]
  },
  {
   "cell_type": "code",
   "execution_count": 39,
   "metadata": {},
   "outputs": [],
   "source": [
    "from itertools import combinations"
   ]
  },
  {
   "cell_type": "code",
   "execution_count": 40,
   "metadata": {},
   "outputs": [
    {
     "data": {
      "text/plain": [
       "2548"
      ]
     },
     "execution_count": 40,
     "metadata": {},
     "output_type": "execute_result"
    }
   ],
   "source": [
    "# Generate the pairs of similar sets\n",
    "set_pairs = set()  # set to store the distinct set pairs\n",
    "for cluster in clusters:  # for each cluster\n",
    "    cluster_set_pairs = list(combinations(sorted(cluster[\"sets\"]), 2))  # compute the set pairs\n",
    "    for set_pair in cluster_set_pairs:  # add each table pair to the set pairs\n",
    "        set_pairs.add(set_pair)\n",
    "len(set_pairs)"
   ]
  },
  {
   "cell_type": "code",
   "execution_count": 41,
   "metadata": {},
   "outputs": [
    {
     "data": {
      "text/plain": [
       "[('9598047-1_2_0', '9598047-1_4_0'),\n",
       " ('170982-1_1_0', '170982-1_6_0'),\n",
       " ('19498116-2_0_0', '19498116-2_5_0'),\n",
       " ('1825085-3_1_0', '1825085-3_3_0'),\n",
       " ('33116-1_6_0', '5492852-1_3_0'),\n",
       " ('3551842-1_3_0', '3551842-1_5_0'),\n",
       " ('1370270-2_1_0', '1370270-2_5_0'),\n",
       " ('24301284-14_5_0', '24301284-14_6_0'),\n",
       " ('25360753-1_1_0', '25360753-1_3_0'),\n",
       " ('14777223-1_3_0', '14777223-1_5_0')]"
      ]
     },
     "execution_count": 41,
     "metadata": {},
     "output_type": "execute_result"
    }
   ],
   "source": [
    "list(set_pairs)[:10]"
   ]
  },
  {
   "cell_type": "markdown",
   "metadata": {},
   "source": [
    "# MinHash LSH Forest"
   ]
  },
  {
   "cell_type": "markdown",
   "metadata": {},
   "source": [
    "MinHash LSH is useful for threshold queries. However, top-k queries are often more useful in some cases. LSH Forest is a general LSH data structure that makes top-k query possible for many different types of LSH indexes, including MinHash LSH. MinHash LSH Forest returns therefore the top-k matching sets that have the approximately highest Jaccard similarity with the query set."
   ]
  },
  {
   "cell_type": "code",
   "execution_count": 42,
   "metadata": {},
   "outputs": [
    {
     "name": "stdout",
     "output_type": "stream",
     "text": [
      "23912408-1_0\n",
      "List of Nürburgring fatal accidents | List of fatal accidents involving competitors | \n"
     ]
    },
    {
     "data": {
      "text/html": [
       "<div>\n",
       "<style scoped>\n",
       "    .dataframe tbody tr th:only-of-type {\n",
       "        vertical-align: middle;\n",
       "    }\n",
       "\n",
       "    .dataframe tbody tr th {\n",
       "        vertical-align: top;\n",
       "    }\n",
       "\n",
       "    .dataframe thead tr th {\n",
       "        text-align: left;\n",
       "    }\n",
       "</style>\n",
       "<table border=\"1\" class=\"dataframe\">\n",
       "  <thead>\n",
       "    <tr>\n",
       "      <th></th>\n",
       "      <th>competitor</th>\n",
       "      <th>section</th>\n",
       "      <th>course</th>\n",
       "    </tr>\n",
       "  </thead>\n",
       "  <tbody>\n",
       "    <tr>\n",
       "      <th>0</th>\n",
       "      <td>Emil Frankl</td>\n",
       "      <td></td>\n",
       "      <td>Nordschleife</td>\n",
       "    </tr>\n",
       "    <tr>\n",
       "      <th>1</th>\n",
       "      <td>Theodor Weißenberger</td>\n",
       "      <td>Metzgesfeld</td>\n",
       "      <td>Nordschleife</td>\n",
       "    </tr>\n",
       "    <tr>\n",
       "      <th>2</th>\n",
       "      <td>Onofre Marimón</td>\n",
       "      <td>Adenau Bridge</td>\n",
       "      <td>Nordschleife</td>\n",
       "    </tr>\n",
       "    <tr>\n",
       "      <th>3</th>\n",
       "      <td>Rudi Godin</td>\n",
       "      <td>Pflanzgarten</td>\n",
       "      <td>Nordschleife</td>\n",
       "    </tr>\n",
       "    <tr>\n",
       "      <th>4</th>\n",
       "      <td>Peter Collins</td>\n",
       "      <td>Pflanzgarten</td>\n",
       "      <td>Nordschleife</td>\n",
       "    </tr>\n",
       "    <tr>\n",
       "      <th>5</th>\n",
       "      <td>Fausto Meyrat</td>\n",
       "      <td>Kesselchen</td>\n",
       "      <td>Nordschleife</td>\n",
       "    </tr>\n",
       "    <tr>\n",
       "      <th>6</th>\n",
       "      <td>Alfred Wohlgemuth</td>\n",
       "      <td></td>\n",
       "      <td>Südschleife/Zielschleife</td>\n",
       "    </tr>\n",
       "    <tr>\n",
       "      <th>7</th>\n",
       "      <td>Dickie Dale</td>\n",
       "      <td>Bocksberg</td>\n",
       "      <td>Südschleife/Zielschleife</td>\n",
       "    </tr>\n",
       "    <tr>\n",
       "      <th>8</th>\n",
       "      <td>Günter Strasburger</td>\n",
       "      <td></td>\n",
       "      <td>Südschleife/Zielschleife</td>\n",
       "    </tr>\n",
       "    <tr>\n",
       "      <th>9</th>\n",
       "      <td>Herbert Mandel</td>\n",
       "      <td>Müllenbach</td>\n",
       "      <td>Südschleife</td>\n",
       "    </tr>\n",
       "    <tr>\n",
       "      <th>10</th>\n",
       "      <td>Manfred König</td>\n",
       "      <td>Müllenbach</td>\n",
       "      <td>Südschleife</td>\n",
       "    </tr>\n",
       "    <tr>\n",
       "      <th>11</th>\n",
       "      <td>Erich Bertholdt</td>\n",
       "      <td>Müllenbachkurve</td>\n",
       "      <td>Südschleife</td>\n",
       "    </tr>\n",
       "    <tr>\n",
       "      <th>12</th>\n",
       "      <td>Rüdiger Schwietring</td>\n",
       "      <td>Bocksberg</td>\n",
       "      <td>Südschleife</td>\n",
       "    </tr>\n",
       "    <tr>\n",
       "      <th>13</th>\n",
       "      <td>Walter Czadek</td>\n",
       "      <td>Döttinger Höhe</td>\n",
       "      <td>Nordschleife</td>\n",
       "    </tr>\n",
       "    <tr>\n",
       "      <th>14</th>\n",
       "      <td>Alex Wittwer</td>\n",
       "      <td>Fuchsröhre</td>\n",
       "      <td>Nordschleife</td>\n",
       "    </tr>\n",
       "    <tr>\n",
       "      <th>15</th>\n",
       "      <td>Heinz Behrentin</td>\n",
       "      <td></td>\n",
       "      <td>Nordschleife</td>\n",
       "    </tr>\n",
       "    <tr>\n",
       "      <th>16</th>\n",
       "      <td>Corrado Antonello</td>\n",
       "      <td>Sudkurve</td>\n",
       "      <td>Nordschleife</td>\n",
       "    </tr>\n",
       "    <tr>\n",
       "      <th>17</th>\n",
       "      <td>Jorma Nevala</td>\n",
       "      <td>Pits Straight</td>\n",
       "      <td>Zielschleife</td>\n",
       "    </tr>\n",
       "    <tr>\n",
       "      <th>18</th>\n",
       "      <td>Stefan Eickelmann</td>\n",
       "      <td>Karussell</td>\n",
       "      <td>Nordschleife</td>\n",
       "    </tr>\n",
       "    <tr>\n",
       "      <th>19</th>\n",
       "      <td>Oliver Perschke</td>\n",
       "      <td>Castrol - S</td>\n",
       "      <td>GP-Strecke</td>\n",
       "    </tr>\n",
       "    <tr>\n",
       "      <th>20</th>\n",
       "      <td>Hans-Ruedi Portmann</td>\n",
       "      <td>Wehrseifen</td>\n",
       "      <td>Nordschleife/GP-Strecke</td>\n",
       "    </tr>\n",
       "    <tr>\n",
       "      <th>21</th>\n",
       "      <td>Leo Löwenstein</td>\n",
       "      <td>Bergwerk</td>\n",
       "      <td>Nordschleife/GP-Strecke</td>\n",
       "    </tr>\n",
       "  </tbody>\n",
       "</table>\n",
       "</div>"
      ],
      "text/plain": [
       "              competitor          section                    course\n",
       "0            Emil Frankl                               Nordschleife\n",
       "1   Theodor Weißenberger      Metzgesfeld              Nordschleife\n",
       "2         Onofre Marimón    Adenau Bridge              Nordschleife\n",
       "3             Rudi Godin     Pflanzgarten              Nordschleife\n",
       "4          Peter Collins     Pflanzgarten              Nordschleife\n",
       "5          Fausto Meyrat       Kesselchen              Nordschleife\n",
       "6      Alfred Wohlgemuth                   Südschleife/Zielschleife\n",
       "7            Dickie Dale        Bocksberg  Südschleife/Zielschleife\n",
       "8     Günter Strasburger                   Südschleife/Zielschleife\n",
       "9         Herbert Mandel       Müllenbach               Südschleife\n",
       "10         Manfred König       Müllenbach               Südschleife\n",
       "11       Erich Bertholdt  Müllenbachkurve               Südschleife\n",
       "12   Rüdiger Schwietring        Bocksberg               Südschleife\n",
       "13         Walter Czadek   Döttinger Höhe              Nordschleife\n",
       "14          Alex Wittwer       Fuchsröhre              Nordschleife\n",
       "15       Heinz Behrentin                               Nordschleife\n",
       "16     Corrado Antonello         Sudkurve              Nordschleife\n",
       "17          Jorma Nevala    Pits Straight              Zielschleife\n",
       "18     Stefan Eickelmann        Karussell              Nordschleife\n",
       "19       Oliver Perschke      Castrol - S                GP-Strecke\n",
       "20   Hans-Ruedi Portmann       Wehrseifen   Nordschleife/GP-Strecke\n",
       "21        Leo Löwenstein         Bergwerk   Nordschleife/GP-Strecke"
      ]
     },
     "execution_count": 42,
     "metadata": {},
     "output_type": "execute_result"
    }
   ],
   "source": [
    "q_table_id = \"23912408-1_0\"\n",
    "q_table_index = id_mapping[q_table_id]\n",
    "print(tables[q_table_index][\"_id\"])\n",
    "print(tables[q_table_index][\"context\"])\n",
    "pd.DataFrame(tables[q_table_index][\"content\"], columns=tables[q_table_index][\"headers\"])"
   ]
  },
  {
   "cell_type": "code",
   "execution_count": 43,
   "metadata": {},
   "outputs": [
    {
     "data": {
      "text/html": [
       "<div>\n",
       "<style scoped>\n",
       "    .dataframe tbody tr th:only-of-type {\n",
       "        vertical-align: middle;\n",
       "    }\n",
       "\n",
       "    .dataframe tbody tr th {\n",
       "        vertical-align: top;\n",
       "    }\n",
       "\n",
       "    .dataframe thead th {\n",
       "        text-align: right;\n",
       "    }\n",
       "</style>\n",
       "<table border=\"1\" class=\"dataframe\">\n",
       "  <thead>\n",
       "    <tr style=\"text-align: right;\">\n",
       "      <th></th>\n",
       "      <th>query_table</th>\n",
       "      <th>join_table</th>\n",
       "      <th>join_column</th>\n",
       "      <th>query_set_size</th>\n",
       "      <th>join_set_size</th>\n",
       "      <th>joinability</th>\n",
       "      <th>processed</th>\n",
       "      <th>jsim</th>\n",
       "    </tr>\n",
       "  </thead>\n",
       "  <tbody>\n",
       "    <tr>\n",
       "      <th>812</th>\n",
       "      <td>23912408-1_0</td>\n",
       "      <td>23912408-1_1</td>\n",
       "      <td>competitor</td>\n",
       "      <td>22</td>\n",
       "      <td>42</td>\n",
       "      <td>18</td>\n",
       "      <td>False</td>\n",
       "      <td>0.391304</td>\n",
       "    </tr>\n",
       "    <tr>\n",
       "      <th>813</th>\n",
       "      <td>23912408-1_0</td>\n",
       "      <td>23912408-1_2</td>\n",
       "      <td>competitor</td>\n",
       "      <td>22</td>\n",
       "      <td>42</td>\n",
       "      <td>19</td>\n",
       "      <td>False</td>\n",
       "      <td>0.422222</td>\n",
       "    </tr>\n",
       "    <tr>\n",
       "      <th>814</th>\n",
       "      <td>23912408-1_0</td>\n",
       "      <td>23912408-1_3</td>\n",
       "      <td>competitor</td>\n",
       "      <td>22</td>\n",
       "      <td>23</td>\n",
       "      <td>14</td>\n",
       "      <td>False</td>\n",
       "      <td>0.451613</td>\n",
       "    </tr>\n",
       "    <tr>\n",
       "      <th>815</th>\n",
       "      <td>23912408-1_0</td>\n",
       "      <td>23912408-1_4</td>\n",
       "      <td>competitor</td>\n",
       "      <td>22</td>\n",
       "      <td>53</td>\n",
       "      <td>17</td>\n",
       "      <td>False</td>\n",
       "      <td>0.293103</td>\n",
       "    </tr>\n",
       "    <tr>\n",
       "      <th>816</th>\n",
       "      <td>23912408-1_0</td>\n",
       "      <td>23912408-1_5</td>\n",
       "      <td>competitor</td>\n",
       "      <td>22</td>\n",
       "      <td>41</td>\n",
       "      <td>13</td>\n",
       "      <td>False</td>\n",
       "      <td>0.260000</td>\n",
       "    </tr>\n",
       "    <tr>\n",
       "      <th>817</th>\n",
       "      <td>23912408-1_0</td>\n",
       "      <td>23912408-1_6</td>\n",
       "      <td>competitor</td>\n",
       "      <td>22</td>\n",
       "      <td>59</td>\n",
       "      <td>19</td>\n",
       "      <td>True</td>\n",
       "      <td>0.306452</td>\n",
       "    </tr>\n",
       "  </tbody>\n",
       "</table>\n",
       "</div>"
      ],
      "text/plain": [
       "      query_table    join_table join_column  query_set_size  join_set_size  \\\n",
       "812  23912408-1_0  23912408-1_1  competitor              22             42   \n",
       "813  23912408-1_0  23912408-1_2  competitor              22             42   \n",
       "814  23912408-1_0  23912408-1_3  competitor              22             23   \n",
       "815  23912408-1_0  23912408-1_4  competitor              22             53   \n",
       "816  23912408-1_0  23912408-1_5  competitor              22             41   \n",
       "817  23912408-1_0  23912408-1_6  competitor              22             59   \n",
       "\n",
       "     joinability  processed      jsim  \n",
       "812           18      False  0.391304  \n",
       "813           19      False  0.422222  \n",
       "814           14      False  0.451613  \n",
       "815           17      False  0.293103  \n",
       "816           13      False  0.260000  \n",
       "817           19       True  0.306452  "
      ]
     },
     "execution_count": 43,
     "metadata": {},
     "output_type": "execute_result"
    }
   ],
   "source": [
    "gt[gt[\"query_table\"] == q_table_id]"
   ]
  },
  {
   "cell_type": "code",
   "execution_count": 45,
   "metadata": {},
   "outputs": [
    {
     "data": {
      "text/html": [
       "<div>\n",
       "<style scoped>\n",
       "    .dataframe tbody tr th:only-of-type {\n",
       "        vertical-align: middle;\n",
       "    }\n",
       "\n",
       "    .dataframe tbody tr th {\n",
       "        vertical-align: top;\n",
       "    }\n",
       "\n",
       "    .dataframe thead tr th {\n",
       "        text-align: left;\n",
       "    }\n",
       "</style>\n",
       "<table border=\"1\" class=\"dataframe\">\n",
       "  <thead>\n",
       "    <tr>\n",
       "      <th></th>\n",
       "      <th>competitor</th>\n",
       "      <th>date</th>\n",
       "      <th>machine</th>\n",
       "      <th>course</th>\n",
       "    </tr>\n",
       "  </thead>\n",
       "  <tbody>\n",
       "    <tr>\n",
       "      <th>0</th>\n",
       "      <td>Marc van de Brandeler</td>\n",
       "      <td>5 Sep 1999</td>\n",
       "      <td>Porsche 993</td>\n",
       "      <td>Nordschleife</td>\n",
       "    </tr>\n",
       "    <tr>\n",
       "      <th>1</th>\n",
       "      <td>Corrado Antonello</td>\n",
       "      <td>16 June 1979</td>\n",
       "      <td>Laverda</td>\n",
       "      <td>Nordschleife</td>\n",
       "    </tr>\n",
       "    <tr>\n",
       "      <th>2</th>\n",
       "      <td>Josef Hackenberg</td>\n",
       "      <td>25 May 1952</td>\n",
       "      <td>BMW Veritas RS</td>\n",
       "      <td>Nordschleife</td>\n",
       "    </tr>\n",
       "    <tr>\n",
       "      <th>3</th>\n",
       "      <td>Rüdiger Schwietring</td>\n",
       "      <td>6 Oct 1973</td>\n",
       "      <td>Honda 750cc</td>\n",
       "      <td>Südschleife</td>\n",
       "    </tr>\n",
       "    <tr>\n",
       "      <th>4</th>\n",
       "      <td>Onofre Marimón</td>\n",
       "      <td>31 July 1954</td>\n",
       "      <td>Maserati 250F</td>\n",
       "      <td>Nordschleife</td>\n",
       "    </tr>\n",
       "  </tbody>\n",
       "</table>\n",
       "</div>"
      ],
      "text/plain": [
       "              competitor          date         machine        course\n",
       "0  Marc van de Brandeler    5 Sep 1999     Porsche 993  Nordschleife\n",
       "1      Corrado Antonello  16 June 1979         Laverda  Nordschleife\n",
       "2       Josef Hackenberg   25 May 1952  BMW Veritas RS  Nordschleife\n",
       "3    Rüdiger Schwietring    6 Oct 1973     Honda 750cc   Südschleife\n",
       "4         Onofre Marimón  31 July 1954   Maserati 250F  Nordschleife"
      ]
     },
     "execution_count": 45,
     "metadata": {},
     "output_type": "execute_result"
    }
   ],
   "source": [
    "table_index = id_mapping[\"23912408-1_3\"]\n",
    "pd.DataFrame(tables[table_index][\"content\"], columns=tables[table_index][\"headers\"]).head()"
   ]
  },
  {
   "cell_type": "code",
   "execution_count": 47,
   "metadata": {},
   "outputs": [
    {
     "data": {
      "text/plain": [
       "{'Alex Wittwer',\n",
       " 'Alfred Wohlgemuth',\n",
       " 'Corrado Antonello',\n",
       " 'Dickie Dale',\n",
       " 'Emil Frankl',\n",
       " 'Erich Bertholdt',\n",
       " 'Fausto Meyrat',\n",
       " 'Günter Strasburger',\n",
       " 'Hans-Ruedi Portmann',\n",
       " 'Heinz Behrentin',\n",
       " 'Herbert Mandel',\n",
       " 'Jorma Nevala',\n",
       " 'Leo Löwenstein',\n",
       " 'Manfred König',\n",
       " 'Oliver Perschke',\n",
       " 'Onofre Marimón',\n",
       " 'Peter Collins',\n",
       " 'Rudi Godin',\n",
       " 'Rüdiger Schwietring',\n",
       " 'Stefan Eickelmann',\n",
       " 'Theodor Weißenberger',\n",
       " 'Walter Czadek'}"
      ]
     },
     "execution_count": 47,
     "metadata": {},
     "output_type": "execute_result"
    }
   ],
   "source": [
    "q_col_id = 0\n",
    "q_col_set = {row[q_col_id] for row in tables[q_table_index][\"content\"]}\n",
    "qm = MinHash(num_perm=128)\n",
    "for val in list(q_col_set):\n",
    "    qm.update(val.encode('utf8'))\n",
    "q_col_set"
   ]
  },
  {
   "cell_type": "code",
   "execution_count": 48,
   "metadata": {},
   "outputs": [],
   "source": [
    "lsh = MinHashLSH(threshold=0.5, num_perm=128)\n",
    "for table_index in range(0, len(tables)):  # for each table\n",
    "    if tables[table_index][\"_id\"] != q_table_id:\n",
    "        for col_id in range(0, len(tables[table_index][\"headers\"])):  # for each column of the table\n",
    "            col_set = {row[col_id] for row in tables[table_index][\"content\"]}\n",
    "            m = MinHash(num_perm=128)\n",
    "            for val in list(col_set):\n",
    "                m.update(val.encode('utf8'))\n",
    "            lsh.insert(tables[table_index][\"_id\"] + \"_\" + str(col_id), m)"
   ]
  },
  {
   "cell_type": "code",
   "execution_count": 49,
   "metadata": {},
   "outputs": [
    {
     "data": {
      "text/plain": [
       "['23912408-1_2_0']"
      ]
     },
     "execution_count": 49,
     "metadata": {},
     "output_type": "execute_result"
    }
   ],
   "source": [
    "lsh.query(qm)"
   ]
  },
  {
   "cell_type": "code",
   "execution_count": 50,
   "metadata": {},
   "outputs": [
    {
     "data": {
      "text/html": [
       "<div>\n",
       "<style scoped>\n",
       "    .dataframe tbody tr th:only-of-type {\n",
       "        vertical-align: middle;\n",
       "    }\n",
       "\n",
       "    .dataframe tbody tr th {\n",
       "        vertical-align: top;\n",
       "    }\n",
       "\n",
       "    .dataframe thead tr th {\n",
       "        text-align: left;\n",
       "    }\n",
       "</style>\n",
       "<table border=\"1\" class=\"dataframe\">\n",
       "  <thead>\n",
       "    <tr>\n",
       "      <th></th>\n",
       "      <th>competitor</th>\n",
       "      <th>no</th>\n",
       "      <th>course</th>\n",
       "    </tr>\n",
       "  </thead>\n",
       "  <tbody>\n",
       "    <tr>\n",
       "      <th>0</th>\n",
       "      <td>Dickie Dale</td>\n",
       "      <td>23</td>\n",
       "      <td>Südschleife/Zielschleife</td>\n",
       "    </tr>\n",
       "    <tr>\n",
       "      <th>1</th>\n",
       "      <td>Brian Hetreed</td>\n",
       "      <td>28</td>\n",
       "      <td>Nordschleife</td>\n",
       "    </tr>\n",
       "    <tr>\n",
       "      <th>2</th>\n",
       "      <td>Honoré Wagner</td>\n",
       "      <td>32</td>\n",
       "      <td>Nordschleife</td>\n",
       "    </tr>\n",
       "    <tr>\n",
       "      <th>3</th>\n",
       "      <td>Klein</td>\n",
       "      <td>40</td>\n",
       "      <td>Nordschleife</td>\n",
       "    </tr>\n",
       "    <tr>\n",
       "      <th>4</th>\n",
       "      <td>Ernst Raetz</td>\n",
       "      <td>51</td>\n",
       "      <td>Nordschleife</td>\n",
       "    </tr>\n",
       "  </tbody>\n",
       "</table>\n",
       "</div>"
      ],
      "text/plain": [
       "      competitor  no                    course\n",
       "0    Dickie Dale  23  Südschleife/Zielschleife\n",
       "1  Brian Hetreed  28              Nordschleife\n",
       "2  Honoré Wagner  32              Nordschleife\n",
       "3          Klein  40              Nordschleife\n",
       "4    Ernst Raetz  51              Nordschleife"
      ]
     },
     "execution_count": 50,
     "metadata": {},
     "output_type": "execute_result"
    }
   ],
   "source": [
    "table_index = id_mapping[\"23912408-1_2\"]\n",
    "pd.DataFrame(tables[table_index][\"content\"], columns=tables[table_index][\"headers\"]).head()"
   ]
  },
  {
   "cell_type": "code",
   "execution_count": 51,
   "metadata": {},
   "outputs": [],
   "source": [
    "from datasketch import MinHashLSHForest"
   ]
  },
  {
   "cell_type": "code",
   "execution_count": 52,
   "metadata": {},
   "outputs": [],
   "source": [
    "forest = MinHashLSHForest(num_perm=128)\n",
    "for table_index in range(0, len(tables)):  # for each table\n",
    "    if tables[table_index][\"_id\"] != q_table_id:\n",
    "        for col_id in range(0, len(tables[table_index][\"headers\"])):  # for each column of the table\n",
    "            col_set = {row[col_id] for row in tables[table_index][\"content\"]}\n",
    "            m = MinHash(num_perm=128)\n",
    "            for val in list(col_set):\n",
    "                m.update(val.encode('utf8'))\n",
    "            forest.add(tables[table_index][\"_id\"] + \"_\" + str(col_id), m)\n",
    "forest.index()"
   ]
  },
  {
   "cell_type": "code",
   "execution_count": 53,
   "metadata": {},
   "outputs": [
    {
     "data": {
      "text/plain": [
       "['23912408-1_5_0',\n",
       " '23912408-1_3_0',\n",
       " '23912408-1_1_0',\n",
       " '23912408-1_2_0',\n",
       " '23912408-1_4_0']"
      ]
     },
     "execution_count": 53,
     "metadata": {},
     "output_type": "execute_result"
    }
   ],
   "source": [
    "forest.query(qm, 5)"
   ]
  },
  {
   "cell_type": "markdown",
   "metadata": {},
   "source": [
    "## MinHash LSH Ensemble"
   ]
  },
  {
   "attachments": {
    "image.png": {
     "image/png": "[encoded data removed]"
    }
   },
   "cell_type": "markdown",
   "metadata": {},
   "source": [
    "LSH Ensemble is a LSH index for containment search: given a query set, it returns sets with containment above a certain threshold.\n",
    "\n",
    "![image.png](attachment:image.png)\n",
    "\n",
    "https://ekzhu.com/datasketch/lshensemble.html"
   ]
  },
  {
   "cell_type": "code",
   "execution_count": 54,
   "metadata": {},
   "outputs": [],
   "source": [
    "from datasketch import MinHashLSHEnsemble"
   ]
  },
  {
   "cell_type": "code",
   "execution_count": 55,
   "metadata": {},
   "outputs": [],
   "source": [
    "q_table_id = \"23912408-1_0\"\n",
    "q_table_index = id_mapping[q_table_id]\n",
    "q_col_id = 0\n",
    "q_col_set = {row[q_col_id] for row in tables[q_table_index][\"content\"]}\n",
    "qm = MinHash(num_perm=128)\n",
    "for val in list(q_col_set):\n",
    "    qm.update(val.encode('utf8'))"
   ]
  },
  {
   "cell_type": "code",
   "execution_count": 56,
   "metadata": {},
   "outputs": [],
   "source": [
    "lshensemble = MinHashLSHEnsemble(threshold=0.8, num_perm=128, num_part=32)\n",
    "triples = list()  # an iterable of (key, minhash, size)\n",
    "for table_index in range(0, len(tables)):  # for each table\n",
    "    if tables[table_index][\"_id\"] != q_table_id:\n",
    "        for col_id in range(0, len(tables[table_index][\"headers\"])):  # for each column of the table\n",
    "            col_set = {row[col_id] for row in tables[table_index][\"content\"]}\n",
    "            m = MinHash(num_perm=128)\n",
    "            for val in list(col_set):\n",
    "                m.update(val.encode('utf8'))\n",
    "            triples.append((tables[table_index][\"_id\"] + \"_\" + str(col_id), m, len(col_set)))\n",
    "lshensemble.index(triples)"
   ]
  },
  {
   "cell_type": "code",
   "execution_count": 57,
   "metadata": {},
   "outputs": [
    {
     "data": {
      "text/plain": [
       "['23912408-1_5_0', '23912408-1_1_0', '23912408-1_2_0', '23912408-1_4_0']"
      ]
     },
     "execution_count": 57,
     "metadata": {},
     "output_type": "execute_result"
    }
   ],
   "source": [
    "[key for key in lshensemble.query(qm, len(q_col_set))]"
   ]
  },
  {
   "cell_type": "markdown",
   "metadata": {},
   "source": [
    "## Bonus: Tokenization"
   ]
  },
  {
   "cell_type": "code",
   "execution_count": 58,
   "metadata": {},
   "outputs": [
    {
     "data": {
      "text/html": [
       "<div>\n",
       "<style scoped>\n",
       "    .dataframe tbody tr th:only-of-type {\n",
       "        vertical-align: middle;\n",
       "    }\n",
       "\n",
       "    .dataframe tbody tr th {\n",
       "        vertical-align: top;\n",
       "    }\n",
       "\n",
       "    .dataframe thead th {\n",
       "        text-align: right;\n",
       "    }\n",
       "</style>\n",
       "<table border=\"1\" class=\"dataframe\">\n",
       "  <thead>\n",
       "    <tr style=\"text-align: right;\">\n",
       "      <th></th>\n",
       "      <th>query_table</th>\n",
       "      <th>join_table</th>\n",
       "      <th>join_column</th>\n",
       "      <th>query_set_size</th>\n",
       "      <th>join_set_size</th>\n",
       "      <th>joinability</th>\n",
       "      <th>processed</th>\n",
       "      <th>jsim</th>\n",
       "    </tr>\n",
       "  </thead>\n",
       "  <tbody>\n",
       "    <tr>\n",
       "      <th>812</th>\n",
       "      <td>23912408-1_0</td>\n",
       "      <td>23912408-1_1</td>\n",
       "      <td>competitor</td>\n",
       "      <td>22</td>\n",
       "      <td>42</td>\n",
       "      <td>18</td>\n",
       "      <td>False</td>\n",
       "      <td>0.391304</td>\n",
       "    </tr>\n",
       "    <tr>\n",
       "      <th>813</th>\n",
       "      <td>23912408-1_0</td>\n",
       "      <td>23912408-1_2</td>\n",
       "      <td>competitor</td>\n",
       "      <td>22</td>\n",
       "      <td>42</td>\n",
       "      <td>19</td>\n",
       "      <td>False</td>\n",
       "      <td>0.422222</td>\n",
       "    </tr>\n",
       "    <tr>\n",
       "      <th>814</th>\n",
       "      <td>23912408-1_0</td>\n",
       "      <td>23912408-1_3</td>\n",
       "      <td>competitor</td>\n",
       "      <td>22</td>\n",
       "      <td>23</td>\n",
       "      <td>14</td>\n",
       "      <td>False</td>\n",
       "      <td>0.451613</td>\n",
       "    </tr>\n",
       "    <tr>\n",
       "      <th>815</th>\n",
       "      <td>23912408-1_0</td>\n",
       "      <td>23912408-1_4</td>\n",
       "      <td>competitor</td>\n",
       "      <td>22</td>\n",
       "      <td>53</td>\n",
       "      <td>17</td>\n",
       "      <td>False</td>\n",
       "      <td>0.293103</td>\n",
       "    </tr>\n",
       "    <tr>\n",
       "      <th>816</th>\n",
       "      <td>23912408-1_0</td>\n",
       "      <td>23912408-1_5</td>\n",
       "      <td>competitor</td>\n",
       "      <td>22</td>\n",
       "      <td>41</td>\n",
       "      <td>13</td>\n",
       "      <td>False</td>\n",
       "      <td>0.260000</td>\n",
       "    </tr>\n",
       "    <tr>\n",
       "      <th>817</th>\n",
       "      <td>23912408-1_0</td>\n",
       "      <td>23912408-1_6</td>\n",
       "      <td>competitor</td>\n",
       "      <td>22</td>\n",
       "      <td>59</td>\n",
       "      <td>19</td>\n",
       "      <td>True</td>\n",
       "      <td>0.306452</td>\n",
       "    </tr>\n",
       "  </tbody>\n",
       "</table>\n",
       "</div>"
      ],
      "text/plain": [
       "      query_table    join_table join_column  query_set_size  join_set_size  \\\n",
       "812  23912408-1_0  23912408-1_1  competitor              22             42   \n",
       "813  23912408-1_0  23912408-1_2  competitor              22             42   \n",
       "814  23912408-1_0  23912408-1_3  competitor              22             23   \n",
       "815  23912408-1_0  23912408-1_4  competitor              22             53   \n",
       "816  23912408-1_0  23912408-1_5  competitor              22             41   \n",
       "817  23912408-1_0  23912408-1_6  competitor              22             59   \n",
       "\n",
       "     joinability  processed      jsim  \n",
       "812           18      False  0.391304  \n",
       "813           19      False  0.422222  \n",
       "814           14      False  0.451613  \n",
       "815           17      False  0.293103  \n",
       "816           13      False  0.260000  \n",
       "817           19       True  0.306452  "
      ]
     },
     "execution_count": 58,
     "metadata": {},
     "output_type": "execute_result"
    }
   ],
   "source": [
    "gt[gt[\"query_table\"] == q_table_id]"
   ]
  },
  {
   "cell_type": "code",
   "execution_count": 60,
   "metadata": {},
   "outputs": [
    {
     "data": {
      "text/html": [
       "<div>\n",
       "<style scoped>\n",
       "    .dataframe tbody tr th:only-of-type {\n",
       "        vertical-align: middle;\n",
       "    }\n",
       "\n",
       "    .dataframe tbody tr th {\n",
       "        vertical-align: top;\n",
       "    }\n",
       "\n",
       "    .dataframe thead tr th {\n",
       "        text-align: left;\n",
       "    }\n",
       "</style>\n",
       "<table border=\"1\" class=\"dataframe\">\n",
       "  <thead>\n",
       "    <tr>\n",
       "      <th></th>\n",
       "      <th>competitor</th>\n",
       "      <th>course</th>\n",
       "      <th>machine</th>\n",
       "    </tr>\n",
       "  </thead>\n",
       "  <tbody>\n",
       "    <tr>\n",
       "      <th>0</th>\n",
       "      <td>Bernhard_Thiel</td>\n",
       "      <td>Nordschleife</td>\n",
       "      <td>Borgward Isabella</td>\n",
       "    </tr>\n",
       "    <tr>\n",
       "      <th>1</th>\n",
       "      <td>Klein</td>\n",
       "      <td>Nordschleife</td>\n",
       "      <td>Porsche GT</td>\n",
       "    </tr>\n",
       "    <tr>\n",
       "      <th>2</th>\n",
       "      <td>Erwin_Bauer</td>\n",
       "      <td>Nordschleife</td>\n",
       "      <td>Ferrari 250 TR</td>\n",
       "    </tr>\n",
       "    <tr>\n",
       "      <th>3</th>\n",
       "      <td>Toni_Babl</td>\n",
       "      <td>Nordschleife</td>\n",
       "      <td>600cc Douglas Sidecar</td>\n",
       "    </tr>\n",
       "    <tr>\n",
       "      <th>4</th>\n",
       "      <td>Lutz-Barthel</td>\n",
       "      <td>GP-Strecke</td>\n",
       "      <td>BMW 328</td>\n",
       "    </tr>\n",
       "  </tbody>\n",
       "</table>\n",
       "</div>"
      ],
      "text/plain": [
       "       competitor        course                machine\n",
       "0  Bernhard_Thiel  Nordschleife      Borgward Isabella\n",
       "1           Klein  Nordschleife             Porsche GT\n",
       "2     Erwin_Bauer  Nordschleife         Ferrari 250 TR\n",
       "3       Toni_Babl  Nordschleife  600cc Douglas Sidecar\n",
       "4    Lutz-Barthel    GP-Strecke                BMW 328"
      ]
     },
     "execution_count": 60,
     "metadata": {},
     "output_type": "execute_result"
    }
   ],
   "source": [
    "table_index = id_mapping[\"23912408-1_6\"]\n",
    "pd.DataFrame(tables[table_index][\"content\"], columns=tables[table_index][\"headers\"]).head()"
   ]
  },
  {
   "cell_type": "markdown",
   "metadata": {},
   "source": [
    "\\[For students\\] Note that we can tokenize our cell values at different levels."
   ]
  },
  {
   "cell_type": "code",
   "execution_count": 62,
   "metadata": {},
   "outputs": [],
   "source": [
    "import re"
   ]
  },
  {
   "cell_type": "code",
   "execution_count": 63,
   "metadata": {},
   "outputs": [
    {
     "data": {
      "text/plain": [
       "{'Alex',\n",
       " 'Alfred',\n",
       " 'Antonello',\n",
       " 'Behrentin',\n",
       " 'Bertholdt',\n",
       " 'Collins',\n",
       " 'Corrado',\n",
       " 'Czadek',\n",
       " 'Dale',\n",
       " 'Dickie',\n",
       " 'Eickelmann',\n",
       " 'Emil',\n",
       " 'Erich',\n",
       " 'Fausto',\n",
       " 'Frankl',\n",
       " 'Godin',\n",
       " 'Günter',\n",
       " 'Hans',\n",
       " 'Heinz',\n",
       " 'Herbert',\n",
       " 'Jorma',\n",
       " 'König',\n",
       " 'Leo',\n",
       " 'Löwenstein',\n",
       " 'Mandel',\n",
       " 'Manfred',\n",
       " 'Marimón',\n",
       " 'Meyrat',\n",
       " 'Nevala',\n",
       " 'Oliver',\n",
       " 'Onofre',\n",
       " 'Perschke',\n",
       " 'Peter',\n",
       " 'Portmann',\n",
       " 'Rudi',\n",
       " 'Ruedi',\n",
       " 'Rüdiger',\n",
       " 'Schwietring',\n",
       " 'Stefan',\n",
       " 'Strasburger',\n",
       " 'Theodor',\n",
       " 'Walter',\n",
       " 'Weißenberger',\n",
       " 'Wittwer',\n",
       " 'Wohlgemuth'}"
      ]
     },
     "execution_count": 63,
     "metadata": {},
     "output_type": "execute_result"
    }
   ],
   "source": [
    "q_col_id = 0\n",
    "q_col_set = {token for row in tables[q_table_index][\"content\"] for token in re.split(\" |-|_|'\", row[q_col_id])}\n",
    "qm = MinHash(num_perm=128)\n",
    "for val in list(q_col_set):\n",
    "    qm.update(val.encode('utf8'))\n",
    "q_col_set"
   ]
  },
  {
   "cell_type": "code",
   "execution_count": 68,
   "metadata": {},
   "outputs": [],
   "source": [
    "lshensemble = MinHashLSHEnsemble(threshold=0.8, num_perm=128, num_part=32)\n",
    "triples = list()  # an iterable of (key, minhash, size)\n",
    "for table_index in range(0, len(tables)):  # for each table\n",
    "    if tables[table_index][\"_id\"] != q_table_id:\n",
    "        for col_id in range(0, len(tables[table_index][\"headers\"])):  # for each column of the table\n",
    "            col_set = {token for row in tables[table_index][\"content\"] for token in re.split(\" |-|_|'\", row[col_id])}\n",
    "            m = MinHash(num_perm=128)\n",
    "            for val in list(col_set):\n",
    "                m.update(val.encode('utf8'))\n",
    "            triples.append((tables[table_index][\"_id\"] + \"_\" + str(col_id), m, len(col_set)))\n",
    "lshensemble.index(triples)"
   ]
  },
  {
   "cell_type": "code",
   "execution_count": 69,
   "metadata": {},
   "outputs": [
    {
     "data": {
      "text/plain": [
       "['23912408-1_5_0', '23912408-1_2_0', '23912408-1_4_0', '23912408-1_6_0']"
      ]
     },
     "execution_count": 69,
     "metadata": {},
     "output_type": "execute_result"
    }
   ],
   "source": [
    "[key for key in lshensemble.query(qm, len(q_col_set))]"
   ]
  },
  {
   "cell_type": "code",
   "execution_count": null,
   "metadata": {},
   "outputs": [],
   "source": []
  }
 ],
 "metadata": {
  "kernelspec": {
   "display_name": "Python 3 (ipykernel)",
   "language": "python",
   "name": "python3"
  },
  "language_info": {
   "codemirror_mode": {
    "name": "ipython",
    "version": 3
   },
   "file_extension": ".py",
   "mimetype": "text/x-python",
   "name": "python",
   "nbconvert_exporter": "python",
   "pygments_lexer": "ipython3",
   "version": "3.8.10"
  }
 },
 "nbformat": 4,
 "nbformat_minor": 4
}
